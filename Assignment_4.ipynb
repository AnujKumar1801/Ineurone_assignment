{
  "nbformat": 4,
  "nbformat_minor": 0,
  "metadata": {
    "colab": {
      "provenance": [],
      "collapsed_sections": [],
      "authorship_tag": "ABX9TyN0lR6O/U4LONB+2j/39d+K",
      "include_colab_link": true
    },
    "kernelspec": {
      "name": "python3",
      "display_name": "Python 3"
    },
    "language_info": {
      "name": "python"
    }
  },
  "cells": [
    {
      "cell_type": "markdown",
      "metadata": {
        "id": "view-in-github",
        "colab_type": "text"
      },
      "source": [
        "<a href=\"https://colab.research.google.com/github/AnujKumar1801/Ineurone_assignment/blob/main/Assignment_4.ipynb\" target=\"_parent\"><img src=\"https://colab.research.google.com/assets/colab-badge.svg\" alt=\"Open In Colab\"/></a>"
      ]
    },
    {
      "cell_type": "markdown",
      "source": [
        "### 1. What exactly is []?"
      ],
      "metadata": {
        "id": "NwfA0kyQIEea"
      }
    },
    {
      "cell_type": "code",
      "source": [
        "f\"this is {type([])}\""
      ],
      "metadata": {
        "colab": {
          "base_uri": "https://localhost:8080/",
          "height": 35
        },
        "id": "kqtOEk4VIJ29",
        "outputId": "63f5e2d2-188b-43b5-84f9-672ccda62ad7"
      },
      "execution_count": 111,
      "outputs": [
        {
          "output_type": "execute_result",
          "data": {
            "text/plain": [
              "\"this is <class 'list'>\""
            ],
            "application/vnd.google.colaboratory.intrinsic+json": {
              "type": "string"
            }
          },
          "metadata": {},
          "execution_count": 111
        }
      ]
    },
    {
      "cell_type": "markdown",
      "source": [
        "### 2. In a list of values stored in a variable called spam, how would you assign the value &#39;hello&#39; as the third value? (Assume [2, 4, 6, 8, 10] are in spam.)"
      ],
      "metadata": {
        "id": "EnoG6oEDIKZ_"
      }
    },
    {
      "cell_type": "code",
      "source": [
        "spam = [2, 4, 6, 8, 10]\n",
        "spam[2] = 'hello'"
      ],
      "metadata": {
        "id": "rjZIcFMnIbRN"
      },
      "execution_count": 39,
      "outputs": []
    },
    {
      "cell_type": "code",
      "source": [
        "spam"
      ],
      "metadata": {
        "colab": {
          "base_uri": "https://localhost:8080/"
        },
        "id": "OwKCfesPIlfM",
        "outputId": "f2cdd40b-17fd-405c-9cd5-d7b6e6a434ef"
      },
      "execution_count": 40,
      "outputs": [
        {
          "output_type": "execute_result",
          "data": {
            "text/plain": [
              "[2, 4, 'hello', 8, 10]"
            ]
          },
          "metadata": {},
          "execution_count": 40
        }
      ]
    },
    {
      "cell_type": "markdown",
      "source": [
        "__Let&#39;s pretend the spam includes the list [&#39;a&#39;, &#39;b&#39;, &#39;c&#39;, &#39;d&#39;] for the next three queries.__"
      ],
      "metadata": {
        "id": "MIwIIiWmImWc"
      }
    },
    {
      "cell_type": "code",
      "source": [
        "spam = ['a','b','c','d']\n",
        "spam"
      ],
      "metadata": {
        "colab": {
          "base_uri": "https://localhost:8080/"
        },
        "id": "VyfK2wVEJGgE",
        "outputId": "725ba779-16d5-4323-f015-bf5b62fd3ad8"
      },
      "execution_count": 112,
      "outputs": [
        {
          "output_type": "execute_result",
          "data": {
            "text/plain": [
              "['a', 'b', 'c', 'd']"
            ]
          },
          "metadata": {},
          "execution_count": 112
        }
      ]
    },
    {
      "cell_type": "markdown",
      "source": [
        "### 3. What is the value of spam[int(int(&#39;3&#39; * 2) / 11)]?"
      ],
      "metadata": {
        "id": "HGqtFN_vJHAI"
      }
    },
    {
      "cell_type": "code",
      "source": [
        "spam[int(int('3'*2)/11)]"
      ],
      "metadata": {
        "colab": {
          "base_uri": "https://localhost:8080/",
          "height": 35
        },
        "id": "fy7hIGbvJW2F",
        "outputId": "d9b74e6c-1cc9-42e5-a234-c31697e14639"
      },
      "execution_count": 113,
      "outputs": [
        {
          "output_type": "execute_result",
          "data": {
            "text/plain": [
              "'d'"
            ],
            "application/vnd.google.colaboratory.intrinsic+json": {
              "type": "string"
            }
          },
          "metadata": {},
          "execution_count": 113
        }
      ]
    },
    {
      "cell_type": "markdown",
      "source": [
        "### 4. What is the value of spam[-1]?"
      ],
      "metadata": {
        "id": "nO3IU1NIJeVV"
      }
    },
    {
      "cell_type": "code",
      "source": [
        "spam[-1]"
      ],
      "metadata": {
        "colab": {
          "base_uri": "https://localhost:8080/",
          "height": 35
        },
        "id": "MANCGFQXJymB",
        "outputId": "4a53ced5-0c0b-4ba9-a088-670a982dbde3"
      },
      "execution_count": 43,
      "outputs": [
        {
          "output_type": "execute_result",
          "data": {
            "text/plain": [
              "'d'"
            ],
            "application/vnd.google.colaboratory.intrinsic+json": {
              "type": "string"
            }
          },
          "metadata": {},
          "execution_count": 43
        }
      ]
    },
    {
      "cell_type": "markdown",
      "source": [
        "### 5. What is the value of spam[:2]?"
      ],
      "metadata": {
        "id": "et9FDeWiJzkx"
      }
    },
    {
      "cell_type": "code",
      "source": [
        "spam[:2]"
      ],
      "metadata": {
        "colab": {
          "base_uri": "https://localhost:8080/"
        },
        "id": "pl4XAYU0J3dx",
        "outputId": "414f8ac5-ec1d-4f51-c9da-d7d38cdb07d5"
      },
      "execution_count": 114,
      "outputs": [
        {
          "output_type": "execute_result",
          "data": {
            "text/plain": [
              "['a', 'b']"
            ]
          },
          "metadata": {},
          "execution_count": 114
        }
      ]
    },
    {
      "cell_type": "markdown",
      "source": [
        "__Let&#39;s pretend bacon has the list [3.14, &#39;cat,&#39; 11, &#39;cat,&#39; True] for the next three questions.__"
      ],
      "metadata": {
        "id": "8iCLytNcJ4Up"
      }
    },
    {
      "cell_type": "code",
      "source": [
        "bacon = [3.14, 'cat', 11, 'cat', True]\n",
        "bacon"
      ],
      "metadata": {
        "colab": {
          "base_uri": "https://localhost:8080/"
        },
        "id": "gXB7LtLpJ7rZ",
        "outputId": "cd1f6b41-a480-42d5-bdcc-47badd3276c6"
      },
      "execution_count": 115,
      "outputs": [
        {
          "output_type": "execute_result",
          "data": {
            "text/plain": [
              "[3.14, 'cat', 11, 'cat', True]"
            ]
          },
          "metadata": {},
          "execution_count": 115
        }
      ]
    },
    {
      "cell_type": "markdown",
      "source": [
        "### 6. What is the value of bacon.index(&#39;cat&#39;)?"
      ],
      "metadata": {
        "id": "ComIO7O2KKAa"
      }
    },
    {
      "cell_type": "code",
      "source": [
        "bacon.index('cat')"
      ],
      "metadata": {
        "colab": {
          "base_uri": "https://localhost:8080/"
        },
        "id": "Pi3COeyUKAmx",
        "outputId": "f0b7a369-ee4e-45ca-80d7-e85626fcabbe"
      },
      "execution_count": 116,
      "outputs": [
        {
          "output_type": "execute_result",
          "data": {
            "text/plain": [
              "1"
            ]
          },
          "metadata": {},
          "execution_count": 116
        }
      ]
    },
    {
      "cell_type": "markdown",
      "source": [
        "### 7. How does bacon.append(99) change the look of the list value in bacon?"
      ],
      "metadata": {
        "id": "_qikOWjXKJYx"
      }
    },
    {
      "cell_type": "code",
      "source": [
        "bacon.append(99)"
      ],
      "metadata": {
        "id": "DLQMB1QRKQpJ"
      },
      "execution_count": 117,
      "outputs": []
    },
    {
      "cell_type": "code",
      "source": [
        "bacon"
      ],
      "metadata": {
        "colab": {
          "base_uri": "https://localhost:8080/"
        },
        "id": "sXy4txBdKUJ5",
        "outputId": "297b6c03-4776-4472-a03c-1de31d5e7ed2"
      },
      "execution_count": 118,
      "outputs": [
        {
          "output_type": "execute_result",
          "data": {
            "text/plain": [
              "[3.14, 'cat', 11, 'cat', True, 99]"
            ]
          },
          "metadata": {},
          "execution_count": 118
        }
      ]
    },
    {
      "cell_type": "markdown",
      "source": [
        "This will insert 99 in the last of list"
      ],
      "metadata": {
        "id": "-IQhk-bvZ_op"
      }
    },
    {
      "cell_type": "markdown",
      "source": [
        "### 8. How does bacon.remove(&#39;cat&#39;) change the look of the list in bacon?"
      ],
      "metadata": {
        "id": "1Y53XdRUKTLI"
      }
    },
    {
      "cell_type": "code",
      "source": [
        "print(bacon)\n",
        "bacon.remove('cat')\n",
        "print(bacon)"
      ],
      "metadata": {
        "colab": {
          "base_uri": "https://localhost:8080/"
        },
        "id": "xpH1IA0aKX24",
        "outputId": "2b13230d-cceb-4ac5-a771-4d31c8474477"
      },
      "execution_count": 119,
      "outputs": [
        {
          "output_type": "stream",
          "name": "stdout",
          "text": [
            "[3.14, 'cat', 11, 'cat', True, 99]\n",
            "[3.14, 11, 'cat', True, 99]\n"
          ]
        }
      ]
    },
    {
      "cell_type": "markdown",
      "source": [
        "First cat in the list will be removed"
      ],
      "metadata": {
        "id": "OKeGdbjOaEOQ"
      }
    },
    {
      "cell_type": "markdown",
      "source": [
        "### 9.What are the list concatenation and list replication operators?"
      ],
      "metadata": {
        "id": "Kk3EAmgYKZsA"
      }
    },
    {
      "cell_type": "code",
      "source": [
        "list_concatenation = [1,2,3] + [4,5,6]\n",
        "list_replication = [1,2,3] * 3"
      ],
      "metadata": {
        "id": "V2lgpdgbKkrQ"
      },
      "execution_count": 120,
      "outputs": []
    },
    {
      "cell_type": "code",
      "source": [
        "list_concatenation,list_replication"
      ],
      "metadata": {
        "colab": {
          "base_uri": "https://localhost:8080/"
        },
        "id": "4KUOgvWFNcDa",
        "outputId": "8d4e9cbd-c796-4718-c8dd-db8eef0d7897"
      },
      "execution_count": 121,
      "outputs": [
        {
          "output_type": "execute_result",
          "data": {
            "text/plain": [
              "([1, 2, 3, 4, 5, 6], [1, 2, 3, 1, 2, 3, 1, 2, 3])"
            ]
          },
          "metadata": {},
          "execution_count": 121
        }
      ]
    },
    {
      "cell_type": "markdown",
      "source": [
        "list concatenation means compilation of two list there are many method to do so, i have '+' to show above\n",
        "\n",
        "while replication means duplicating the list values inside the list"
      ],
      "metadata": {
        "id": "luHMmcoEaJwo"
      }
    },
    {
      "cell_type": "markdown",
      "source": [
        "### 10. What is difference between the list methods append() and insert()?"
      ],
      "metadata": {
        "id": "6eUKEJl-Neoa"
      }
    },
    {
      "cell_type": "code",
      "source": [
        "bacon.append(10)"
      ],
      "metadata": {
        "id": "FEcRyMAwNnCh"
      },
      "execution_count": 122,
      "outputs": []
    },
    {
      "cell_type": "code",
      "source": [
        "bacon"
      ],
      "metadata": {
        "colab": {
          "base_uri": "https://localhost:8080/"
        },
        "id": "qYxOcs-DNrEK",
        "outputId": "ae948ea2-1dde-406e-eaab-11b64450970f"
      },
      "execution_count": 123,
      "outputs": [
        {
          "output_type": "execute_result",
          "data": {
            "text/plain": [
              "[3.14, 11, 'cat', True, 99, 10]"
            ]
          },
          "metadata": {},
          "execution_count": 123
        }
      ]
    },
    {
      "cell_type": "code",
      "source": [
        "bacon.insert(2,10)"
      ],
      "metadata": {
        "id": "j4Ke4izUNryZ"
      },
      "execution_count": 124,
      "outputs": []
    },
    {
      "cell_type": "code",
      "source": [
        "bacon"
      ],
      "metadata": {
        "colab": {
          "base_uri": "https://localhost:8080/"
        },
        "id": "S83v_FSXNwBS",
        "outputId": "c9cb423f-90af-4b18-bc9f-a1f471b1508b"
      },
      "execution_count": 125,
      "outputs": [
        {
          "output_type": "execute_result",
          "data": {
            "text/plain": [
              "[3.14, 11, 10, 'cat', True, 99, 10]"
            ]
          },
          "metadata": {},
          "execution_count": 125
        }
      ]
    },
    {
      "cell_type": "markdown",
      "source": [
        "__append:__ Append used to insert value in the list, but it only insert from the last. We don't have any option to do it\n",
        "\n",
        "__insert:__ It allow us to specify the index number as per our preference to inser the value"
      ],
      "metadata": {
        "id": "6m8eMtBvaYu3"
      }
    },
    {
      "cell_type": "markdown",
      "source": [
        "### 10. What are the two methods for removing items from a list?"
      ],
      "metadata": {
        "id": "rXS79RGKNwrR"
      }
    },
    {
      "cell_type": "code",
      "source": [
        "bacon.remove(3.14)"
      ],
      "metadata": {
        "id": "U0hkG8wTN3Dp"
      },
      "execution_count": 126,
      "outputs": []
    },
    {
      "cell_type": "code",
      "source": [
        "bacon"
      ],
      "metadata": {
        "colab": {
          "base_uri": "https://localhost:8080/"
        },
        "id": "mL_dV5XCN6nZ",
        "outputId": "ee78ba23-0966-4f63-a982-ac27e09f05ad"
      },
      "execution_count": 127,
      "outputs": [
        {
          "output_type": "execute_result",
          "data": {
            "text/plain": [
              "[11, 10, 'cat', True, 99, 10]"
            ]
          },
          "metadata": {},
          "execution_count": 127
        }
      ]
    },
    {
      "cell_type": "code",
      "source": [
        "bacon.pop()"
      ],
      "metadata": {
        "colab": {
          "base_uri": "https://localhost:8080/"
        },
        "id": "cbmwinyxN7b5",
        "outputId": "1791ff4f-395c-41fe-f353-f9528a9616ba"
      },
      "execution_count": 128,
      "outputs": [
        {
          "output_type": "execute_result",
          "data": {
            "text/plain": [
              "10"
            ]
          },
          "metadata": {},
          "execution_count": 128
        }
      ]
    },
    {
      "cell_type": "code",
      "source": [
        "bacon"
      ],
      "metadata": {
        "colab": {
          "base_uri": "https://localhost:8080/"
        },
        "id": "pgwz_fvtOKDY",
        "outputId": "bafdfeb1-d217-4108-8122-9902732ab24d"
      },
      "execution_count": 129,
      "outputs": [
        {
          "output_type": "execute_result",
          "data": {
            "text/plain": [
              "[11, 10, 'cat', True, 99]"
            ]
          },
          "metadata": {},
          "execution_count": 129
        }
      ]
    },
    {
      "cell_type": "markdown",
      "source": [
        "### 11. Describe how list values and string values are identical."
      ],
      "metadata": {
        "id": "fMre0nt2OLKA"
      }
    },
    {
      "cell_type": "code",
      "source": [
        "bacon"
      ],
      "metadata": {
        "colab": {
          "base_uri": "https://localhost:8080/"
        },
        "id": "97ca6xviOSVw",
        "outputId": "a773ea34-33a7-4aca-b44d-5b1612e0ba04"
      },
      "execution_count": 130,
      "outputs": [
        {
          "output_type": "execute_result",
          "data": {
            "text/plain": [
              "[11, 10, 'cat', True, 99]"
            ]
          },
          "metadata": {},
          "execution_count": 130
        }
      ]
    },
    {
      "cell_type": "code",
      "source": [
        "name = 'Anuj'"
      ],
      "metadata": {
        "id": "O1JWP9IwOTRw"
      },
      "execution_count": 131,
      "outputs": []
    },
    {
      "cell_type": "code",
      "source": [
        "bacon[0]"
      ],
      "metadata": {
        "colab": {
          "base_uri": "https://localhost:8080/"
        },
        "id": "u7QfUKW6OUwQ",
        "outputId": "a028d983-7a13-4db1-88e6-11b242420958"
      },
      "execution_count": 132,
      "outputs": [
        {
          "output_type": "execute_result",
          "data": {
            "text/plain": [
              "11"
            ]
          },
          "metadata": {},
          "execution_count": 132
        }
      ]
    },
    {
      "cell_type": "code",
      "source": [
        "name[0]"
      ],
      "metadata": {
        "colab": {
          "base_uri": "https://localhost:8080/",
          "height": 35
        },
        "id": "acUmm0QWOWwg",
        "outputId": "59994ab0-9027-4c90-8499-a655607d0951"
      },
      "execution_count": 133,
      "outputs": [
        {
          "output_type": "execute_result",
          "data": {
            "text/plain": [
              "'A'"
            ],
            "application/vnd.google.colaboratory.intrinsic+json": {
              "type": "string"
            }
          },
          "metadata": {},
          "execution_count": 133
        }
      ]
    },
    {
      "cell_type": "code",
      "source": [
        "bacon.count('cat')"
      ],
      "metadata": {
        "colab": {
          "base_uri": "https://localhost:8080/"
        },
        "id": "93FTIb5bOX2Q",
        "outputId": "1035c55a-ba9a-4c4b-96e3-a7e1cfb6d50c"
      },
      "execution_count": 134,
      "outputs": [
        {
          "output_type": "execute_result",
          "data": {
            "text/plain": [
              "1"
            ]
          },
          "metadata": {},
          "execution_count": 134
        }
      ]
    },
    {
      "cell_type": "code",
      "source": [
        "name.count('A')"
      ],
      "metadata": {
        "colab": {
          "base_uri": "https://localhost:8080/"
        },
        "id": "-zI8M6ayOdHI",
        "outputId": "5da53dff-2da3-4601-a45c-6b7c9b79055a"
      },
      "execution_count": 135,
      "outputs": [
        {
          "output_type": "execute_result",
          "data": {
            "text/plain": [
              "1"
            ]
          },
          "metadata": {},
          "execution_count": 135
        }
      ]
    },
    {
      "cell_type": "markdown",
      "source": [
        "### 12. What&#39;s the difference between tuples and lists?"
      ],
      "metadata": {
        "id": "yuQZjMVeOgHg"
      }
    },
    {
      "cell_type": "code",
      "source": [
        "anuj = (10,11,12,32,23)"
      ],
      "metadata": {
        "id": "XUl_bi27OmCo"
      },
      "execution_count": 136,
      "outputs": []
    },
    {
      "cell_type": "code",
      "source": [
        "marks = [100,78,98]"
      ],
      "metadata": {
        "id": "Zg5gaa6BOpiw"
      },
      "execution_count": 137,
      "outputs": []
    },
    {
      "cell_type": "markdown",
      "source": [
        "list is mutable, while tuple is immutable\n",
        "\n",
        "below is the example"
      ],
      "metadata": {
        "id": "6Ll_Rm-4Ot46"
      }
    },
    {
      "cell_type": "code",
      "source": [
        "anuj[3] = 40"
      ],
      "metadata": {
        "colab": {
          "base_uri": "https://localhost:8080/",
          "height": 165
        },
        "id": "SW-S00E_S8OW",
        "outputId": "ed9dc48c-e166-4e64-85b4-ede568438945"
      },
      "execution_count": 138,
      "outputs": [
        {
          "output_type": "error",
          "ename": "TypeError",
          "evalue": "ignored",
          "traceback": [
            "\u001b[0;31m---------------------------------------------------------------------------\u001b[0m",
            "\u001b[0;31mTypeError\u001b[0m                                 Traceback (most recent call last)",
            "\u001b[0;32m<ipython-input-138-45cbe8abdc65>\u001b[0m in \u001b[0;36m<module>\u001b[0;34m\u001b[0m\n\u001b[0;32m----> 1\u001b[0;31m \u001b[0manuj\u001b[0m\u001b[0;34m[\u001b[0m\u001b[0;36m3\u001b[0m\u001b[0;34m]\u001b[0m \u001b[0;34m=\u001b[0m \u001b[0;36m40\u001b[0m\u001b[0;34m\u001b[0m\u001b[0;34m\u001b[0m\u001b[0m\n\u001b[0m",
            "\u001b[0;31mTypeError\u001b[0m: 'tuple' object does not support item assignment"
          ]
        }
      ]
    },
    {
      "cell_type": "code",
      "source": [
        "marks[1] = 57"
      ],
      "metadata": {
        "id": "9U4gz8wdS-mO"
      },
      "execution_count": 139,
      "outputs": []
    },
    {
      "cell_type": "code",
      "source": [
        "marks"
      ],
      "metadata": {
        "colab": {
          "base_uri": "https://localhost:8080/"
        },
        "id": "z32isLHVTChu",
        "outputId": "81087ac9-e5f3-4df9-d283-1e11b06b1a40"
      },
      "execution_count": 140,
      "outputs": [
        {
          "output_type": "execute_result",
          "data": {
            "text/plain": [
              "[100, 57, 98]"
            ]
          },
          "metadata": {},
          "execution_count": 140
        }
      ]
    },
    {
      "cell_type": "markdown",
      "source": [
        "In list we can perform operation like insert, append, remove.\n",
        "\n",
        "While in tuples we can't do that. There are only two method for tuple count, index"
      ],
      "metadata": {
        "id": "RCPbct3aTDbG"
      }
    },
    {
      "cell_type": "code",
      "source": [
        "anuj.append(43)"
      ],
      "metadata": {
        "colab": {
          "base_uri": "https://localhost:8080/",
          "height": 165
        },
        "id": "fkGqbPx2TSLF",
        "outputId": "908477cb-9be7-4c40-e085-cbf4591559cc"
      },
      "execution_count": 141,
      "outputs": [
        {
          "output_type": "error",
          "ename": "AttributeError",
          "evalue": "ignored",
          "traceback": [
            "\u001b[0;31m---------------------------------------------------------------------------\u001b[0m",
            "\u001b[0;31mAttributeError\u001b[0m                            Traceback (most recent call last)",
            "\u001b[0;32m<ipython-input-141-95c0e64b7dfd>\u001b[0m in \u001b[0;36m<module>\u001b[0;34m\u001b[0m\n\u001b[0;32m----> 1\u001b[0;31m \u001b[0manuj\u001b[0m\u001b[0;34m.\u001b[0m\u001b[0mappend\u001b[0m\u001b[0;34m(\u001b[0m\u001b[0;36m43\u001b[0m\u001b[0;34m)\u001b[0m\u001b[0;34m\u001b[0m\u001b[0;34m\u001b[0m\u001b[0m\n\u001b[0m",
            "\u001b[0;31mAttributeError\u001b[0m: 'tuple' object has no attribute 'append'"
          ]
        }
      ]
    },
    {
      "cell_type": "code",
      "source": [
        "marks.append(34)"
      ],
      "metadata": {
        "id": "Ag6Si5ngTUc1"
      },
      "execution_count": 142,
      "outputs": []
    },
    {
      "cell_type": "code",
      "source": [
        "marks"
      ],
      "metadata": {
        "colab": {
          "base_uri": "https://localhost:8080/"
        },
        "id": "XbXqzR2cTd91",
        "outputId": "63ab4487-e5ba-4fa9-d82c-8496c352b10e"
      },
      "execution_count": 143,
      "outputs": [
        {
          "output_type": "execute_result",
          "data": {
            "text/plain": [
              "[100, 57, 98, 34]"
            ]
          },
          "metadata": {},
          "execution_count": 143
        }
      ]
    },
    {
      "cell_type": "markdown",
      "source": [
        "### 14. How do you type a tuple value that only contains the integer 42?"
      ],
      "metadata": {
        "id": "nUzeD6noThk1"
      }
    },
    {
      "cell_type": "code",
      "source": [
        "tuple([42])"
      ],
      "metadata": {
        "colab": {
          "base_uri": "https://localhost:8080/"
        },
        "id": "4QSu7ujHTnFt",
        "outputId": "f7a34ff3-236e-41dc-a0c4-eeb9dc1775a5"
      },
      "execution_count": 144,
      "outputs": [
        {
          "output_type": "execute_result",
          "data": {
            "text/plain": [
              "(42,)"
            ]
          },
          "metadata": {},
          "execution_count": 144
        }
      ]
    },
    {
      "cell_type": "code",
      "source": [
        "(42,)"
      ],
      "metadata": {
        "colab": {
          "base_uri": "https://localhost:8080/"
        },
        "id": "6oQBIFnKToUt",
        "outputId": "6cdde155-3e66-43b9-8703-84013ebf24e2"
      },
      "execution_count": 145,
      "outputs": [
        {
          "output_type": "execute_result",
          "data": {
            "text/plain": [
              "(42,)"
            ]
          },
          "metadata": {},
          "execution_count": 145
        }
      ]
    },
    {
      "cell_type": "markdown",
      "source": [
        "### 15. How do you get a list value&#39;s tuple form? How do you get a tuple value&#39;s list form?"
      ],
      "metadata": {
        "id": "wsbyvIkMTyHl"
      }
    },
    {
      "cell_type": "code",
      "source": [
        "anuj"
      ],
      "metadata": {
        "colab": {
          "base_uri": "https://localhost:8080/"
        },
        "id": "jtT4iDdbT5wb",
        "outputId": "42c35eaa-d77b-4f94-9034-27c62a88881d"
      },
      "execution_count": 146,
      "outputs": [
        {
          "output_type": "execute_result",
          "data": {
            "text/plain": [
              "(10, 11, 12, 32, 23)"
            ]
          },
          "metadata": {},
          "execution_count": 146
        }
      ]
    },
    {
      "cell_type": "code",
      "source": [
        "marks"
      ],
      "metadata": {
        "colab": {
          "base_uri": "https://localhost:8080/"
        },
        "id": "B9EVjaVdT9hk",
        "outputId": "f87c48cc-5e90-4c90-843e-5343179285c1"
      },
      "execution_count": 147,
      "outputs": [
        {
          "output_type": "execute_result",
          "data": {
            "text/plain": [
              "[100, 57, 98, 34]"
            ]
          },
          "metadata": {},
          "execution_count": 147
        }
      ]
    },
    {
      "cell_type": "code",
      "source": [
        "anuj = list(anuj)"
      ],
      "metadata": {
        "id": "eSY-E1QQT94d"
      },
      "execution_count": 148,
      "outputs": []
    },
    {
      "cell_type": "code",
      "source": [
        "anuj"
      ],
      "metadata": {
        "colab": {
          "base_uri": "https://localhost:8080/"
        },
        "id": "rxiGyp9RT_00",
        "outputId": "e5a99e76-ed2d-43d2-fb01-02ffcb9f84aa"
      },
      "execution_count": 149,
      "outputs": [
        {
          "output_type": "execute_result",
          "data": {
            "text/plain": [
              "[10, 11, 12, 32, 23]"
            ]
          },
          "metadata": {},
          "execution_count": 149
        }
      ]
    },
    {
      "cell_type": "code",
      "source": [
        "marks = tuple(marks)"
      ],
      "metadata": {
        "id": "IbI_5ltVUAME"
      },
      "execution_count": 150,
      "outputs": []
    },
    {
      "cell_type": "code",
      "source": [
        "marks"
      ],
      "metadata": {
        "colab": {
          "base_uri": "https://localhost:8080/"
        },
        "id": "thGPnQquUDj8",
        "outputId": "63e15ca3-c0be-42c3-e64a-64c9369d3833"
      },
      "execution_count": 151,
      "outputs": [
        {
          "output_type": "execute_result",
          "data": {
            "text/plain": [
              "(100, 57, 98, 34)"
            ]
          },
          "metadata": {},
          "execution_count": 151
        }
      ]
    },
    {
      "cell_type": "markdown",
      "source": [
        "### 16. Variables that &quot;contain&quot; list values are not necessarily lists themselves. Instead, what do they\n",
        "contain?"
      ],
      "metadata": {
        "id": "HwKkZrZdUD7M"
      }
    },
    {
      "cell_type": "markdown",
      "source": [
        "Answer : Unknown"
      ],
      "metadata": {
        "id": "ftyu-9U7UfHD"
      }
    },
    {
      "cell_type": "markdown",
      "source": [
        "### 17. How do you distinguish between copy.copy() and copy.deepcopy()?"
      ],
      "metadata": {
        "id": "Yru8QyIYUnUL"
      }
    },
    {
      "cell_type": "code",
      "source": [
        "import copy"
      ],
      "metadata": {
        "id": "xpDDZB0KUqzb"
      },
      "execution_count": 93,
      "outputs": []
    },
    {
      "cell_type": "markdown",
      "source": [
        "__Append method__"
      ],
      "metadata": {
        "id": "rXC8alCrYKht"
      }
    },
    {
      "cell_type": "code",
      "source": [
        "list1 = [[1,2,3],['A','B','C'],['I','II','III']]\n",
        "copy_list1 = copy.copy(list1)\n",
        "deep_copy_list1 = copy.deepcopy(list1)"
      ],
      "metadata": {
        "id": "c2LJbmi3XKrR"
      },
      "execution_count": 103,
      "outputs": []
    },
    {
      "cell_type": "code",
      "source": [
        "display(list1,copy_list1,deep_copy_list1)"
      ],
      "metadata": {
        "colab": {
          "base_uri": "https://localhost:8080/",
          "height": 69
        },
        "id": "p8XmcZpRXc_e",
        "outputId": "d35ca481-4f98-4d6b-ea8a-9a3652a70bd5"
      },
      "execution_count": 104,
      "outputs": [
        {
          "output_type": "display_data",
          "data": {
            "text/plain": [
              "[[1, 2, 3], ['A', 'B', 'C'], ['I', 'II', 'III']]"
            ]
          },
          "metadata": {}
        },
        {
          "output_type": "display_data",
          "data": {
            "text/plain": [
              "[[1, 2, 3], ['A', 'B', 'C'], ['I', 'II', 'III']]"
            ]
          },
          "metadata": {}
        },
        {
          "output_type": "display_data",
          "data": {
            "text/plain": [
              "[[1, 2, 3], ['A', 'B', 'C'], ['I', 'II', 'III']]"
            ]
          },
          "metadata": {}
        }
      ]
    },
    {
      "cell_type": "code",
      "source": [
        "list1.append([4,4,4])"
      ],
      "metadata": {
        "id": "5WDfMd9DXhoy"
      },
      "execution_count": 105,
      "outputs": []
    },
    {
      "cell_type": "code",
      "source": [
        "display(list1,copy_list1,deep_copy_list1)"
      ],
      "metadata": {
        "colab": {
          "base_uri": "https://localhost:8080/",
          "height": 69
        },
        "id": "Y7P4uSwVX4BE",
        "outputId": "ce087ba9-7945-47f0-c799-012558ad00dc"
      },
      "execution_count": 106,
      "outputs": [
        {
          "output_type": "display_data",
          "data": {
            "text/plain": [
              "[[1, 2, 3], ['A', 'B', 'C'], ['I', 'II', 'III'], [4, 4, 4]]"
            ]
          },
          "metadata": {}
        },
        {
          "output_type": "display_data",
          "data": {
            "text/plain": [
              "[[1, 2, 3], ['A', 'B', 'C'], ['I', 'II', 'III']]"
            ]
          },
          "metadata": {}
        },
        {
          "output_type": "display_data",
          "data": {
            "text/plain": [
              "[[1, 2, 3], ['A', 'B', 'C'], ['I', 'II', 'III']]"
            ]
          },
          "metadata": {}
        }
      ]
    },
    {
      "cell_type": "markdown",
      "source": [
        "__modification of list__"
      ],
      "metadata": {
        "id": "UEcKiR3vYRWz"
      }
    },
    {
      "cell_type": "code",
      "source": [
        "list1 = [[1,2,3],['A','B','C'],['I','II','III']]\n",
        "copy_list1 = copy.copy(list1)\n",
        "deep_copy_list1 = copy.deepcopy(list1)"
      ],
      "metadata": {
        "id": "q00waX55X860"
      },
      "execution_count": 107,
      "outputs": []
    },
    {
      "cell_type": "code",
      "source": [
        "list1[0][1] = 'AA'"
      ],
      "metadata": {
        "id": "XAYnkUUSX_es"
      },
      "execution_count": 109,
      "outputs": []
    },
    {
      "cell_type": "code",
      "source": [
        "display(list1,copy_list1,deep_copy_list1)"
      ],
      "metadata": {
        "colab": {
          "base_uri": "https://localhost:8080/",
          "height": 69
        },
        "id": "SINzik0ZYC_E",
        "outputId": "9a6a4c8a-3799-4198-f2fa-468925136e10"
      },
      "execution_count": 110,
      "outputs": [
        {
          "output_type": "display_data",
          "data": {
            "text/plain": [
              "[[1, 'AA', 3], ['A', 'B', 'C'], ['I', 'II', 'III']]"
            ]
          },
          "metadata": {}
        },
        {
          "output_type": "display_data",
          "data": {
            "text/plain": [
              "[[1, 'AA', 3], ['A', 'B', 'C'], ['I', 'II', 'III']]"
            ]
          },
          "metadata": {}
        },
        {
          "output_type": "display_data",
          "data": {
            "text/plain": [
              "[[1, 2, 3], ['A', 'B', 'C'], ['I', 'II', 'III']]"
            ]
          },
          "metadata": {}
        }
      ]
    },
    {
      "cell_type": "markdown",
      "source": [
        "* In deep copy program create whole different list and it is totaly independent to the orignal ove\n",
        "\n",
        "* while in normal copy new list is created but there reference point remain the same for the list inside list. \n",
        "\n",
        "That's why after modification of the values inside list of list it also changes on normal copy list"
      ],
      "metadata": {
        "id": "71_FehKKYGRc"
      }
    },
    {
      "cell_type": "code",
      "source": [],
      "metadata": {
        "id": "duefRP0QY5AK"
      },
      "execution_count": null,
      "outputs": []
    }
  ]
}